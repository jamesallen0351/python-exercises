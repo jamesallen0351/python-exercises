{
 "cells": [
  {
   "cell_type": "code",
   "execution_count": 1,
   "id": "b87bc640",
   "metadata": {},
   "outputs": [],
   "source": [
    "import function_exercises_2"
   ]
  },
  {
   "cell_type": "code",
   "execution_count": 2,
   "id": "ff6a006e",
   "metadata": {},
   "outputs": [],
   "source": [
    "from function_exercises_2 import is_vowel"
   ]
  },
  {
   "cell_type": "code",
   "execution_count": 3,
   "id": "e473f69d",
   "metadata": {},
   "outputs": [
    {
     "data": {
      "text/plain": [
       "True"
      ]
     },
     "execution_count": 3,
     "metadata": {},
     "output_type": "execute_result"
    }
   ],
   "source": [
    "is_vowel('a')"
   ]
  },
  {
   "cell_type": "code",
   "execution_count": 4,
   "id": "fbd056c4",
   "metadata": {},
   "outputs": [
    {
     "data": {
      "text/plain": [
       "False"
      ]
     },
     "execution_count": 4,
     "metadata": {},
     "output_type": "execute_result"
    }
   ],
   "source": [
    "is_vowel('b')"
   ]
  },
  {
   "cell_type": "code",
   "execution_count": 5,
   "id": "ca426c9f",
   "metadata": {},
   "outputs": [],
   "source": [
    "from function_exercises_2 import get_letter_grade as grade"
   ]
  },
  {
   "cell_type": "code",
   "execution_count": 6,
   "id": "b31df637",
   "metadata": {},
   "outputs": [
    {
     "data": {
      "text/plain": [
       "'B'"
      ]
     },
     "execution_count": 6,
     "metadata": {},
     "output_type": "execute_result"
    }
   ],
   "source": [
    "grade(89)"
   ]
  },
  {
   "cell_type": "code",
   "execution_count": 7,
   "id": "99b7db77",
   "metadata": {},
   "outputs": [
    {
     "data": {
      "text/plain": [
       "'A'"
      ]
     },
     "execution_count": 7,
     "metadata": {},
     "output_type": "execute_result"
    }
   ],
   "source": [
    "grade(90)"
   ]
  },
  {
   "cell_type": "code",
   "execution_count": 8,
   "id": "c3fa8d83",
   "metadata": {},
   "outputs": [
    {
     "name": "stdout",
     "output_type": "stream",
     "text": [
      "A B C\n",
      "A B 1\n",
      "A B 2\n",
      "A B 3\n",
      "A C 1\n",
      "A C 2\n",
      "A C 3\n",
      "A 1 2\n",
      "A 1 3\n",
      "A 2 3\n",
      "B C 1\n",
      "B C 2\n",
      "B C 3\n",
      "B 1 2\n",
      "B 1 3\n",
      "B 2 3\n",
      "C 1 2\n",
      "C 1 3\n",
      "C 2 3\n",
      "1 2 3\n"
     ]
    }
   ],
   "source": [
    "#How many different ways can you combine the letters from \"abc\" with the numbers 1, 2, and 3?\n",
    "import itertools\n",
    " \n",
    "st = \"ABC123\"\n",
    " \n",
    "com = itertools.combinations(st, 3)\n",
    " \n",
    "for val in com:\n",
    "    print(*val)"
   ]
  },
  {
   "cell_type": "code",
   "execution_count": 9,
   "id": "124cdae3",
   "metadata": {},
   "outputs": [
    {
     "name": "stdout",
     "output_type": "stream",
     "text": [
      "a b\n",
      "a c\n",
      "a d\n",
      "b c\n",
      "b d\n",
      "c d\n"
     ]
    }
   ],
   "source": [
    "#How many different combinations are there of 2 letters from \"abcd\"?\n",
    "import itertools\n",
    " \n",
    "st = \"abcd\"\n",
    " \n",
    "com = itertools.combinations(st, 2)\n",
    " \n",
    "for val in com:\n",
    "    print(*val)"
   ]
  },
  {
   "cell_type": "code",
   "execution_count": 10,
   "id": "c3b21f38",
   "metadata": {},
   "outputs": [
    {
     "name": "stdout",
     "output_type": "stream",
     "text": [
      "a b\n",
      "a c\n",
      "a d\n",
      "b a\n",
      "b c\n",
      "b d\n",
      "c a\n",
      "c b\n",
      "c d\n",
      "d a\n",
      "d b\n",
      "d c\n"
     ]
    }
   ],
   "source": [
    "#How many different permutations are there of 2 letters from \"abcd\"?\n",
    "import itertools\n",
    " \n",
    "st = \"abcd\"\n",
    " \n",
    "per = itertools.permutations(st, 2)\n",
    " \n",
    "for val in per:\n",
    "    print(*val)"
   ]
  },
  {
   "cell_type": "code",
   "execution_count": 11,
   "id": "698abbd6",
   "metadata": {},
   "outputs": [],
   "source": [
    "import json"
   ]
  },
  {
   "cell_type": "code",
   "execution_count": 21,
   "id": "1b549ea5",
   "metadata": {},
   "outputs": [],
   "source": [
    "profiles = json.load(open('profiles.json'))"
   ]
  },
  {
   "cell_type": "markdown",
   "id": "255e0b01",
   "metadata": {},
   "source": [
    "# Your code should produce a list of dictionaries. Using this data, write some code that calculates and outputs the following information:\n",
    "\n",
    "Total number of users\n",
    "\n",
    "Number of active users\n",
    "\n",
    "Number of inactive users\n",
    "\n",
    "Grand total of balances for all users\n",
    "\n",
    "Average balance per user\n",
    "\n",
    "User with the lowest balance\n",
    "\n",
    "User with the highest balance\n",
    "\n",
    "Most common favorite fruit\n",
    "\n",
    "Least most common favorite fruit\n",
    "\n",
    "Total number of unread messages for all users"
   ]
  },
  {
   "cell_type": "code",
   "execution_count": 15,
   "id": "054a538d",
   "metadata": {},
   "outputs": [
    {
     "data": {
      "text/plain": [
       "list"
      ]
     },
     "execution_count": 15,
     "metadata": {},
     "output_type": "execute_result"
    }
   ],
   "source": [
    "type(profiles)"
   ]
  },
  {
   "cell_type": "code",
   "execution_count": 25,
   "id": "97512ab2",
   "metadata": {},
   "outputs": [
    {
     "name": "stdout",
     "output_type": "stream",
     "text": [
      "19\n"
     ]
    }
   ],
   "source": [
    "# total users\n",
    "total_users = len(profiles)\n",
    "\n",
    "print(total_users)"
   ]
  },
  {
   "cell_type": "code",
   "execution_count": 32,
   "id": "fdeae94e",
   "metadata": {},
   "outputs": [
    {
     "name": "stdout",
     "output_type": "stream",
     "text": [
      "9\n"
     ]
    }
   ],
   "source": [
    "# total active users\n",
    "active_users = 0\n",
    "for active in profiles:\n",
    "    if active[\"isActive\"] == True:\n",
    "        active_users += 1\n",
    "print(active_users)\n",
    "\n",
    "        "
   ]
  },
  {
   "cell_type": "code",
   "execution_count": 36,
   "id": "60d89974",
   "metadata": {},
   "outputs": [
    {
     "name": "stdout",
     "output_type": "stream",
     "text": [
      "10\n"
     ]
    }
   ],
   "source": [
    "# total inactive users\n",
    "inactive_users = 0\n",
    "for active in profiles:\n",
    "    if active[\"isActive\"] != True:\n",
    "        inactive_users += 1\n",
    "print(inactive_users)"
   ]
  },
  {
   "cell_type": "code",
   "execution_count": 64,
   "id": "9f0a28ac",
   "metadata": {},
   "outputs": [
    {
     "ename": "TypeError",
     "evalue": "unsupported operand type(s) for +=: 'int' and 'str'",
     "output_type": "error",
     "traceback": [
      "\u001b[0;31m---------------------------------------------------------------------------\u001b[0m",
      "\u001b[0;31mTypeError\u001b[0m                                 Traceback (most recent call last)",
      "\u001b[0;32m<ipython-input-64-a01fc9f4b1b9>\u001b[0m in \u001b[0;36m<module>\u001b[0;34m\u001b[0m\n\u001b[1;32m      2\u001b[0m \u001b[0mgrand_total_balance\u001b[0m \u001b[0;34m=\u001b[0m \u001b[0;36m0\u001b[0m\u001b[0;34m\u001b[0m\u001b[0;34m\u001b[0m\u001b[0m\n\u001b[1;32m      3\u001b[0m \u001b[0;32mfor\u001b[0m \u001b[0mprofile\u001b[0m \u001b[0;32min\u001b[0m \u001b[0mprofiles\u001b[0m\u001b[0;34m:\u001b[0m\u001b[0;34m\u001b[0m\u001b[0;34m\u001b[0m\u001b[0m\n\u001b[0;32m----> 4\u001b[0;31m     \u001b[0mgrand_total_balance\u001b[0m \u001b[0;34m+=\u001b[0m \u001b[0mprofile\u001b[0m\u001b[0;34m[\u001b[0m\u001b[0;34m\"balance\"\u001b[0m\u001b[0;34m]\u001b[0m\u001b[0;34m\u001b[0m\u001b[0;34m\u001b[0m\u001b[0m\n\u001b[0m\u001b[1;32m      5\u001b[0m \u001b[0;34m\u001b[0m\u001b[0m\n\u001b[1;32m      6\u001b[0m \u001b[0mprint\u001b[0m\u001b[0;34m(\u001b[0m\u001b[0mgrand_total_balance\u001b[0m\u001b[0;34m)\u001b[0m\u001b[0;34m\u001b[0m\u001b[0;34m\u001b[0m\u001b[0m\n",
      "\u001b[0;31mTypeError\u001b[0m: unsupported operand type(s) for +=: 'int' and 'str'"
     ]
    }
   ],
   "source": [
    "#grand total of balances for all users\n",
    "grand_total_balance = 0\n",
    "for profile in profiles:\n",
    "    grand_total_balance += profile[\"balance\"]\n",
    "    \n",
    "print(grand_total_balance)\n",
    "    "
   ]
  },
  {
   "cell_type": "code",
   "execution_count": 62,
   "id": "354b9b1b",
   "metadata": {},
   "outputs": [
    {
     "ename": "SyntaxError",
     "evalue": "invalid syntax (<ipython-input-62-76f25f6ac5f9>, line 1)",
     "output_type": "error",
     "traceback": [
      "\u001b[0;36m  File \u001b[0;32m\"<ipython-input-62-76f25f6ac5f9>\"\u001b[0;36m, line \u001b[0;32m1\u001b[0m\n\u001b[0;31m    list(profiles.balance()) sum(profile[\"balance\"] for profile in profiles)\u001b[0m\n\u001b[0m                             ^\u001b[0m\n\u001b[0;31mSyntaxError\u001b[0m\u001b[0;31m:\u001b[0m invalid syntax\n"
     ]
    }
   ],
   "source": [
    "list(profiles.balance()) \n",
    "\n",
    "sum(profile[\"balance\"] for profile in profiles)\n",
    "    \n",
    "\n"
   ]
  },
  {
   "cell_type": "code",
   "execution_count": null,
   "id": "933615e5",
   "metadata": {},
   "outputs": [],
   "source": []
  }
 ],
 "metadata": {
  "kernelspec": {
   "display_name": "Python 3",
   "language": "python",
   "name": "python3"
  },
  "language_info": {
   "codemirror_mode": {
    "name": "ipython",
    "version": 3
   },
   "file_extension": ".py",
   "mimetype": "text/x-python",
   "name": "python",
   "nbconvert_exporter": "python",
   "pygments_lexer": "ipython3",
   "version": "3.8.8"
  }
 },
 "nbformat": 4,
 "nbformat_minor": 5
}
