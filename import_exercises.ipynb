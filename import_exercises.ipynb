{
 "cells": [
  {
   "cell_type": "code",
   "execution_count": 1,
   "id": "b87bc640",
   "metadata": {},
   "outputs": [],
   "source": [
    "import function_exercises_2"
   ]
  },
  {
   "cell_type": "code",
   "execution_count": 2,
   "id": "ff6a006e",
   "metadata": {},
   "outputs": [],
   "source": [
    "from function_exercises_2 import is_vowel"
   ]
  },
  {
   "cell_type": "code",
   "execution_count": 3,
   "id": "e473f69d",
   "metadata": {},
   "outputs": [
    {
     "data": {
      "text/plain": [
       "True"
      ]
     },
     "execution_count": 3,
     "metadata": {},
     "output_type": "execute_result"
    }
   ],
   "source": [
    "is_vowel('a')"
   ]
  },
  {
   "cell_type": "code",
   "execution_count": 4,
   "id": "fbd056c4",
   "metadata": {},
   "outputs": [
    {
     "data": {
      "text/plain": [
       "False"
      ]
     },
     "execution_count": 4,
     "metadata": {},
     "output_type": "execute_result"
    }
   ],
   "source": [
    "is_vowel('b')"
   ]
  },
  {
   "cell_type": "code",
   "execution_count": 5,
   "id": "ca426c9f",
   "metadata": {},
   "outputs": [],
   "source": [
    "from function_exercises_2 import get_letter_grade as grade"
   ]
  },
  {
   "cell_type": "code",
   "execution_count": 6,
   "id": "b31df637",
   "metadata": {},
   "outputs": [
    {
     "data": {
      "text/plain": [
       "'B'"
      ]
     },
     "execution_count": 6,
     "metadata": {},
     "output_type": "execute_result"
    }
   ],
   "source": [
    "grade(89)"
   ]
  },
  {
   "cell_type": "code",
   "execution_count": 7,
   "id": "99b7db77",
   "metadata": {},
   "outputs": [
    {
     "data": {
      "text/plain": [
       "'A'"
      ]
     },
     "execution_count": 7,
     "metadata": {},
     "output_type": "execute_result"
    }
   ],
   "source": [
    "grade(90)"
   ]
  },
  {
   "cell_type": "code",
   "execution_count": 8,
   "id": "c3fa8d83",
   "metadata": {
    "scrolled": true
   },
   "outputs": [
    {
     "name": "stdout",
     "output_type": "stream",
     "text": [
      "A B C\n",
      "A B 1\n",
      "A B 2\n",
      "A B 3\n",
      "A C 1\n",
      "A C 2\n",
      "A C 3\n",
      "A 1 2\n",
      "A 1 3\n",
      "A 2 3\n",
      "B C 1\n",
      "B C 2\n",
      "B C 3\n",
      "B 1 2\n",
      "B 1 3\n",
      "B 2 3\n",
      "C 1 2\n",
      "C 1 3\n",
      "C 2 3\n",
      "1 2 3\n"
     ]
    }
   ],
   "source": [
    "#How many different ways can you combine the letters from \"abc\" with the numbers 1, 2, and 3?\n",
    "import itertools\n",
    " \n",
    "st = \"ABC123\"\n",
    " \n",
    "com = itertools.combinations(st, 3)\n",
    " \n",
    "for val in com:\n",
    "    print(*val)"
   ]
  },
  {
   "cell_type": "code",
   "execution_count": 9,
   "id": "b551d9ce",
   "metadata": {},
   "outputs": [
    {
     "name": "stdout",
     "output_type": "stream",
     "text": [
      "[('a', 1), ('a', 2), ('a', 3), ('b', 1), ('b', 2), ('b', 3), ('c', 1), ('c', 2), ('c', 3)]\n"
     ]
    },
    {
     "data": {
      "text/plain": [
       "12"
      ]
     },
     "execution_count": 9,
     "metadata": {},
     "output_type": "execute_result"
    }
   ],
   "source": [
    "## example walkthrough\n",
    "import itertools\n",
    "\n",
    "\n",
    "list(itertools.product(\"abc\", [1, 2, 3]))\n",
    "\n",
    "print(list(itertools.product(\"abc\", [1, 2, 3])))\n",
    "\n",
    "len(list(itertools.product(\"abc\", [1, 2, 3])))\n",
    "\n",
    "len(list(itertools.permutations(\"abcd\", 2)))\n"
   ]
  },
  {
   "cell_type": "code",
   "execution_count": 10,
   "id": "124cdae3",
   "metadata": {},
   "outputs": [
    {
     "name": "stdout",
     "output_type": "stream",
     "text": [
      "a b\n",
      "a c\n",
      "a d\n",
      "b c\n",
      "b d\n",
      "c d\n"
     ]
    }
   ],
   "source": [
    "#How many different combinations are there of 2 letters from \"abcd\"?\n",
    "import itertools\n",
    " \n",
    "st = \"abcd\"\n",
    " \n",
    "com = itertools.combinations(st, 2)\n",
    " \n",
    "for val in com:\n",
    "    print(*val)"
   ]
  },
  {
   "cell_type": "code",
   "execution_count": 11,
   "id": "c3b21f38",
   "metadata": {},
   "outputs": [
    {
     "name": "stdout",
     "output_type": "stream",
     "text": [
      "a b\n",
      "a c\n",
      "a d\n",
      "b a\n",
      "b c\n",
      "b d\n",
      "c a\n",
      "c b\n",
      "c d\n",
      "d a\n",
      "d b\n",
      "d c\n"
     ]
    }
   ],
   "source": [
    "#How many different permutations are there of 2 letters from \"abcd\"?\n",
    "import itertools\n",
    " \n",
    "st = \"abcd\"\n",
    " \n",
    "per = itertools.permutations(st, 2)\n",
    " \n",
    "for val in per:\n",
    "    print(*val)"
   ]
  },
  {
   "cell_type": "code",
   "execution_count": 12,
   "id": "698abbd6",
   "metadata": {},
   "outputs": [],
   "source": [
    "import json"
   ]
  },
  {
   "cell_type": "code",
   "execution_count": 13,
   "id": "1b549ea5",
   "metadata": {},
   "outputs": [],
   "source": [
    "profiles = json.load(open('profiles.json'))"
   ]
  },
  {
   "cell_type": "markdown",
   "id": "255e0b01",
   "metadata": {},
   "source": [
    "# Your code should produce a list of dictionaries. Using this data, write some code that calculates and outputs the following information:\n",
    "\n",
    "Total number of users\n",
    "\n",
    "Number of active users\n",
    "\n",
    "Number of inactive users\n",
    "\n",
    "Grand total of balances for all users\n",
    "\n",
    "Average balance per user\n",
    "\n",
    "User with the lowest balance\n",
    "\n",
    "User with the highest balance\n",
    "\n",
    "Most common favorite fruit\n",
    "\n",
    "Least most common favorite fruit\n",
    "\n",
    "Total number of unread messages for all users"
   ]
  },
  {
   "cell_type": "code",
   "execution_count": 14,
   "id": "a9c0b2ac",
   "metadata": {},
   "outputs": [
    {
     "name": "stdout",
     "output_type": "stream",
     "text": [
      "1,234.56\n",
      "1234.56\n",
      "<class 'str'>\n",
      "<class 'float'>\n"
     ]
    },
    {
     "data": {
      "text/plain": [
       "1234.56"
      ]
     },
     "execution_count": 14,
     "metadata": {},
     "output_type": "execute_result"
    }
   ],
   "source": [
    "##example walkthrough\n",
    "\n",
    "## Data Cleaning 101\n",
    "# How would we clean one string?\n",
    "balance = \"$1,234.56\"\n",
    "balance = balance.replace(\"$\", \"\") # Replacing character with \"\" empty string is how to remove them\n",
    "print(balance)\n",
    "balance = balance.replace(\",\", \"\")\n",
    "print(balance)\n",
    "print(type(balance))\n",
    "balance = float(balance)\n",
    "print(type(balance))\n",
    "balance"
   ]
  },
  {
   "cell_type": "code",
   "execution_count": 16,
   "id": "52824ff8",
   "metadata": {},
   "outputs": [],
   "source": [
    "##example walkthrough\n",
    "# The above sequence of steps would make a great function!\n",
    "def handle_balance(balance):\n",
    "    balance = balance.replace(\"$\", \"\")\n",
    "    balance = balance.replace(\",\", \"\")\n",
    "    return float(balance)\n",
    "\n",
    "# Automated Unit Tests to prove that this function works (Quality Assurance)\n",
    "assert handle_balance(\"$1,234.56\") == 1234.56\n",
    "assert handle_balance(\"$1,234,567.89\") == 1234567.89"
   ]
  },
  {
   "cell_type": "code",
   "execution_count": 17,
   "id": "017cdcb6",
   "metadata": {},
   "outputs": [],
   "source": [
    "###example walthrough\n",
    "for profile in profiles:\n",
    "    # Since we're assigning a dictionary key/value in place, we don't need a new list\n",
    "    # We're assigning the balance variable to hold the return value\n",
    "    profile[\"balance\"] = handle_balance(profile[\"balance\"])"
   ]
  },
  {
   "cell_type": "code",
   "execution_count": 18,
   "id": "c06d1d16",
   "metadata": {},
   "outputs": [
    {
     "data": {
      "text/plain": [
       "2097.02"
      ]
     },
     "execution_count": 18,
     "metadata": {},
     "output_type": "execute_result"
    }
   ],
   "source": [
    "profiles[0][\"balance\"]"
   ]
  },
  {
   "cell_type": "code",
   "execution_count": 19,
   "id": "054a538d",
   "metadata": {},
   "outputs": [
    {
     "data": {
      "text/plain": [
       "list"
      ]
     },
     "execution_count": 19,
     "metadata": {},
     "output_type": "execute_result"
    }
   ],
   "source": [
    "type(profiles)"
   ]
  },
  {
   "cell_type": "code",
   "execution_count": 20,
   "id": "c42dcc72",
   "metadata": {},
   "outputs": [
    {
     "name": "stdout",
     "output_type": "stream",
     "text": [
      "19\n"
     ]
    }
   ],
   "source": [
    "# total users\n",
    "total_users = len(profiles)\n",
    "\n",
    "print(total_users)"
   ]
  },
  {
   "cell_type": "code",
   "execution_count": 21,
   "id": "397ff841",
   "metadata": {},
   "outputs": [
    {
     "data": {
      "text/plain": [
       "19"
      ]
     },
     "execution_count": 21,
     "metadata": {},
     "output_type": "execute_result"
    }
   ],
   "source": [
    "##walkthrough example\n",
    "number_of_profiles = len(profiles)\n",
    "number_of_profiles"
   ]
  },
  {
   "cell_type": "code",
   "execution_count": 23,
   "id": "b9218be8",
   "metadata": {},
   "outputs": [
    {
     "name": "stdout",
     "output_type": "stream",
     "text": [
      "9\n"
     ]
    }
   ],
   "source": [
    "# total active users\n",
    "active_users = 0\n",
    "for active in profiles:\n",
    "    if active[\"isActive\"] == True:\n",
    "        active_users += 1\n",
    "print(active_users)"
   ]
  },
  {
   "cell_type": "code",
   "execution_count": 22,
   "id": "657e6a9f",
   "metadata": {},
   "outputs": [
    {
     "data": {
      "text/plain": [
       "9"
      ]
     },
     "execution_count": 22,
     "metadata": {},
     "output_type": "execute_result"
    }
   ],
   "source": [
    "##walkthrough example\n",
    "only_active_users = [profile for profile in profiles if profile[\"isActive\"]]\n",
    "active_user_count = len(only_active_users)\n",
    "active_user_count"
   ]
  },
  {
   "cell_type": "code",
   "execution_count": 26,
   "id": "329db37a",
   "metadata": {},
   "outputs": [
    {
     "name": "stdout",
     "output_type": "stream",
     "text": [
      "10\n"
     ]
    }
   ],
   "source": [
    "# total inactive users\n",
    "inactive_users = 0\n",
    "for active in profiles:\n",
    "    if active[\"isActive\"] != True:\n",
    "        inactive_users += 1\n",
    "print(inactive_users)"
   ]
  },
  {
   "cell_type": "code",
   "execution_count": 25,
   "id": "8b77ddb5",
   "metadata": {},
   "outputs": [
    {
     "name": "stdout",
     "output_type": "stream",
     "text": [
      "52667.02\n"
     ]
    }
   ],
   "source": [
    "#grand total of balances for all users\n",
    "grand_total_balance = 0\n",
    "for profile in profiles:\n",
    "    grand_total_balance += profile[\"balance\"]\n",
    "    \n",
    "print(grand_total_balance)\n",
    "    "
   ]
  },
  {
   "cell_type": "code",
   "execution_count": 24,
   "id": "2d502cb0",
   "metadata": {},
   "outputs": [
    {
     "data": {
      "text/plain": [
       "52667.02"
      ]
     },
     "execution_count": 24,
     "metadata": {},
     "output_type": "execute_result"
    }
   ],
   "source": [
    "# another attempt at grand total of balances for all users\n",
    "\n",
    "sum(profile[\"balance\"] for profile in profiles)    "
   ]
  },
  {
   "cell_type": "code",
   "execution_count": 27,
   "id": "f749c8a9",
   "metadata": {},
   "outputs": [
    {
     "data": {
      "text/plain": [
       "10"
      ]
     },
     "execution_count": 27,
     "metadata": {},
     "output_type": "execute_result"
    }
   ],
   "source": [
    "##Average balance per user example\n",
    "# number of inactive users\n",
    "# inactive_user_count = len([profile for profile in profiles if profile[\"isActive\"] == False])\n",
    "inactive_user_count = len([profile for profile in profiles if not profile[\"isActive\"]])\n",
    "inactive_user_count"
   ]
  },
  {
   "cell_type": "code",
   "execution_count": 28,
   "id": "506b9dbc",
   "metadata": {},
   "outputs": [
    {
     "name": "stdout",
     "output_type": "stream",
     "text": [
      "<class 'dict'>\n"
     ]
    },
    {
     "data": {
      "text/plain": [
       "{'_id': '54e23c3e0fd8074c2ca52667',\n",
       " 'index': 6,\n",
       " 'guid': 'af8d9a03-fde9-4039-b20c-c4708d4cfc3c',\n",
       " 'isActive': False,\n",
       " 'balance': 1214.1,\n",
       " 'picture': 'http://placehold.it/32x32',\n",
       " 'age': 35,\n",
       " 'eyeColor': 'green',\n",
       " 'name': 'Avery Flynn',\n",
       " 'gender': 'male',\n",
       " 'company': 'TERSANKI',\n",
       " 'email': 'averyflynn@tersanki.com',\n",
       " 'phone': '+1 (966) 404-2471',\n",
       " 'address': '569 Oakland Place, Beyerville, Puerto Rico, 2395',\n",
       " 'about': 'Minim consequat anim ad et tempor et pariatur cillum ut. Ea Lorem consectetur sunt aliquip ea minim minim id dolore incididunt qui magna. Magna velit labore dolore voluptate ut aliquip esse qui est ipsum cupidatat duis enim. Sunt esse eiusmod cupidatat duis quis sunt anim dolore adipisicing enim dolore aliqua mollit. Commodo sit ad eiusmod reprehenderit.\\r\\n',\n",
       " 'registered': '2014-04-13T10:25:03 +05:00',\n",
       " 'latitude': -89.879409,\n",
       " 'longitude': 143.441709,\n",
       " 'tags': ['quis', 'esse', 'Lorem', 'minim', 'nostrud', 'voluptate', 'laborum'],\n",
       " 'friends': [{'id': 0, 'name': 'Ball Henson'},\n",
       "  {'id': 1, 'name': 'Dalton Mccoy'},\n",
       "  {'id': 2, 'name': 'Carolina Sharp'}],\n",
       " 'greeting': 'Hello, Avery Flynn! You have 13 unread messages.',\n",
       " 'favoriteFruit': 'banana'}"
      ]
     },
     "execution_count": 28,
     "metadata": {},
     "output_type": "execute_result"
    }
   ],
   "source": [
    "##User with the lowest balance example\n",
    "# We could use min with a lambda here\n",
    "user_with_lowest_balance = min(profiles, key=lambda x: x[\"balance\"])\n",
    "print(type(user_with_lowest_balance))\n",
    "user_with_lowest_balance\n"
   ]
  },
  {
   "cell_type": "code",
   "execution_count": 29,
   "id": "6d4263fa",
   "metadata": {},
   "outputs": [
    {
     "data": {
      "text/plain": [
       "{'_id': '54e23c3eedcc65f0ec3a5496',\n",
       " 'index': 12,\n",
       " 'guid': '759a21c4-5f9c-4189-9c50-c9d8a9f31037',\n",
       " 'isActive': False,\n",
       " 'balance': 3844.42,\n",
       " 'picture': 'http://placehold.it/32x32',\n",
       " 'age': 40,\n",
       " 'eyeColor': 'brown',\n",
       " 'name': 'Chan Hurley',\n",
       " 'gender': 'male',\n",
       " 'company': 'ZEAM',\n",
       " 'email': 'chanhurley@zeam.com',\n",
       " 'phone': '+1 (917) 475-3705',\n",
       " 'address': '915 Channel Avenue, Clinton, North Dakota, 6244',\n",
       " 'about': 'Voluptate exercitation ut anim ex adipisicing ut do officia incididunt fugiat cupidatat aliqua. Cillum ullamco irure dolore est consectetur non consequat. Nulla ullamco eu irure qui dolor magna ipsum id in enim voluptate aute. Officia aliqua dolore ut reprehenderit Lorem cillum. Cillum reprehenderit eu cillum aliqua sint eiusmod cupidatat culpa elit in. Fugiat voluptate reprehenderit amet anim qui nisi velit aliqua proident anim.\\r\\n',\n",
       " 'registered': '2014-03-01T14:51:23 +06:00',\n",
       " 'latitude': 85.901051,\n",
       " 'longitude': -74.986179,\n",
       " 'tags': ['minim', 'veniam', 'sit', 'aute', 'irure', 'non', 'eiusmod'],\n",
       " 'friends': [{'id': 0, 'name': 'Reese Grant'},\n",
       "  {'id': 1, 'name': 'Jenna Kinney'},\n",
       "  {'id': 2, 'name': 'Rhea May'}],\n",
       " 'greeting': 'Hello, Chan Hurley! You have 7 unread messages.',\n",
       " 'favoriteFruit': 'apple'}"
      ]
     },
     "execution_count": 29,
     "metadata": {},
     "output_type": "execute_result"
    }
   ],
   "source": [
    "##walkthrough example\n",
    "# Find the user with the highest north latitude\n",
    "max(profiles, key=lambda x: x[\"latitude\"])"
   ]
  },
  {
   "cell_type": "code",
   "execution_count": 30,
   "id": "4914b3dd",
   "metadata": {},
   "outputs": [
    {
     "data": {
      "text/plain": [
       "['strawberry',\n",
       " 'apple',\n",
       " 'banana',\n",
       " 'banana',\n",
       " 'apple',\n",
       " 'apple',\n",
       " 'banana',\n",
       " 'strawberry',\n",
       " 'strawberry',\n",
       " 'banana',\n",
       " 'strawberry',\n",
       " 'strawberry',\n",
       " 'apple',\n",
       " 'strawberry',\n",
       " 'strawberry',\n",
       " 'banana',\n",
       " 'strawberry',\n",
       " 'banana',\n",
       " 'strawberry']"
      ]
     },
     "execution_count": 30,
     "metadata": {},
     "output_type": "execute_result"
    }
   ],
   "source": [
    "##Most common favorite fruit\n",
    "# One way would be to cook down our list of dictionaries into a list of fruits\n",
    "fruits = []\n",
    "for profile in profiles:\n",
    "    fruits.append(profile[\"favoriteFruit\"])\n",
    "fruits"
   ]
  },
  {
   "cell_type": "code",
   "execution_count": 31,
   "id": "c3a8db8d",
   "metadata": {},
   "outputs": [
    {
     "data": {
      "text/plain": [
       "'strawberry'"
      ]
     },
     "execution_count": 31,
     "metadata": {},
     "output_type": "execute_result"
    }
   ],
   "source": [
    "##additional example found online\n",
    "\n",
    "# We can use list_variable.count as the key here because .count is a function's body\n",
    "max(fruits, key=fruits.count)"
   ]
  },
  {
   "cell_type": "code",
   "execution_count": 32,
   "id": "e948362f",
   "metadata": {},
   "outputs": [
    {
     "name": "stdout",
     "output_type": "stream",
     "text": [
      "Counter({'strawberry': 9, 'banana': 6, 'apple': 4})\n"
     ]
    },
    {
     "data": {
      "text/plain": [
       "[('strawberry', 9)]"
      ]
     },
     "execution_count": 32,
     "metadata": {},
     "output_type": "execute_result"
    }
   ],
   "source": [
    "##another way\n",
    "from collections import Counter\n",
    "print(Counter(fruits))\n",
    "\n",
    "Counter(fruits).most_common(1)\n"
   ]
  },
  {
   "cell_type": "code",
   "execution_count": 33,
   "id": "62915a39",
   "metadata": {},
   "outputs": [
    {
     "data": {
      "text/plain": [
       "'apple'"
      ]
     },
     "execution_count": 33,
     "metadata": {},
     "output_type": "execute_result"
    }
   ],
   "source": [
    "##Least most common favorite fruit\n",
    "min(fruits, key=fruits.count)"
   ]
  },
  {
   "cell_type": "code",
   "execution_count": 35,
   "id": "24a65e58",
   "metadata": {},
   "outputs": [
    {
     "data": {
      "text/plain": [
       "210"
      ]
     },
     "execution_count": 35,
     "metadata": {},
     "output_type": "execute_result"
    }
   ],
   "source": [
    "##Total number of unread messages for all users example\n",
    "\n",
    "# What if we dont' want to make nice, clean, lil' functions\n",
    "total_unread = 0 # setup our accumulator\n",
    "for profile in profiles:\n",
    "    output = \"\"\n",
    "    for letter in profile[\"greeting\"]:\n",
    "        if(letter.isdigit()): # If you have booleans (or expressions that give you booleans), you can make decisions\n",
    "            output += letter\n",
    "    output = int(output)\n",
    "\n",
    "    total_unread += output # increase the total_unread by the count of each profile's gunread message count\n",
    "\n",
    "total_unread"
   ]
  },
  {
   "cell_type": "code",
   "execution_count": null,
   "id": "bf7bb8dc",
   "metadata": {},
   "outputs": [],
   "source": []
  }
 ],
 "metadata": {
  "kernelspec": {
   "display_name": "Python 3",
   "language": "python",
   "name": "python3"
  },
  "language_info": {
   "codemirror_mode": {
    "name": "ipython",
    "version": 3
   },
   "file_extension": ".py",
   "mimetype": "text/x-python",
   "name": "python",
   "nbconvert_exporter": "python",
   "pygments_lexer": "ipython3",
   "version": "3.8.8"
  }
 },
 "nbformat": 4,
 "nbformat_minor": 5
}
