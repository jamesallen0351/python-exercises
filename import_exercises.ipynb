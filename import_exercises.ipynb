{
 "cells": [
  {
   "cell_type": "code",
   "execution_count": 1,
   "id": "b87bc640",
   "metadata": {},
   "outputs": [],
   "source": [
    "import function_exercises_2"
   ]
  },
  {
   "cell_type": "code",
   "execution_count": 2,
   "id": "ff6a006e",
   "metadata": {},
   "outputs": [],
   "source": [
    "from function_exercises_2 import is_vowel"
   ]
  },
  {
   "cell_type": "code",
   "execution_count": 3,
   "id": "e473f69d",
   "metadata": {},
   "outputs": [
    {
     "data": {
      "text/plain": [
       "True"
      ]
     },
     "execution_count": 3,
     "metadata": {},
     "output_type": "execute_result"
    }
   ],
   "source": [
    "is_vowel('a')"
   ]
  },
  {
   "cell_type": "code",
   "execution_count": 4,
   "id": "fbd056c4",
   "metadata": {},
   "outputs": [
    {
     "data": {
      "text/plain": [
       "False"
      ]
     },
     "execution_count": 4,
     "metadata": {},
     "output_type": "execute_result"
    }
   ],
   "source": [
    "is_vowel('b')"
   ]
  },
  {
   "cell_type": "code",
   "execution_count": 5,
   "id": "ca426c9f",
   "metadata": {},
   "outputs": [],
   "source": [
    "from function_exercises_2 import get_letter_grade as grade"
   ]
  },
  {
   "cell_type": "code",
   "execution_count": 6,
   "id": "b31df637",
   "metadata": {},
   "outputs": [
    {
     "data": {
      "text/plain": [
       "'B'"
      ]
     },
     "execution_count": 6,
     "metadata": {},
     "output_type": "execute_result"
    }
   ],
   "source": [
    "grade(89)"
   ]
  },
  {
   "cell_type": "code",
   "execution_count": 7,
   "id": "99b7db77",
   "metadata": {},
   "outputs": [
    {
     "data": {
      "text/plain": [
       "'A'"
      ]
     },
     "execution_count": 7,
     "metadata": {},
     "output_type": "execute_result"
    }
   ],
   "source": [
    "grade(90)"
   ]
  },
  {
   "cell_type": "code",
   "execution_count": 8,
   "id": "c3fa8d83",
   "metadata": {},
   "outputs": [
    {
     "name": "stdout",
     "output_type": "stream",
     "text": [
      "A B C\n",
      "A B 1\n",
      "A B 2\n",
      "A B 3\n",
      "A C 1\n",
      "A C 2\n",
      "A C 3\n",
      "A 1 2\n",
      "A 1 3\n",
      "A 2 3\n",
      "B C 1\n",
      "B C 2\n",
      "B C 3\n",
      "B 1 2\n",
      "B 1 3\n",
      "B 2 3\n",
      "C 1 2\n",
      "C 1 3\n",
      "C 2 3\n",
      "1 2 3\n"
     ]
    }
   ],
   "source": [
    "#How many different ways can you combine the letters from \"abc\" with the numbers 1, 2, and 3?\n",
    "import itertools\n",
    " \n",
    "st = \"ABC123\"\n",
    " \n",
    "com = itertools.combinations(st, 3)\n",
    " \n",
    "for val in com:\n",
    "    print(*val)"
   ]
  },
  {
   "cell_type": "code",
   "execution_count": null,
   "id": "124cdae3",
   "metadata": {},
   "outputs": [],
   "source": [
    "#How many different combinations are there of 2 letters from \"abcd\"?\n",
    "import itertools\n",
    " \n",
    "st = \"abcd\"\n",
    " \n",
    "com = itertools.combinations(st, 2)\n",
    " \n",
    "for val in com:\n",
    "    print(*val)"
   ]
  },
  {
   "cell_type": "code",
   "execution_count": 9,
   "id": "c3b21f38",
   "metadata": {},
   "outputs": [
    {
     "name": "stdout",
     "output_type": "stream",
     "text": [
      "a b\n",
      "a c\n",
      "a d\n",
      "b a\n",
      "b c\n",
      "b d\n",
      "c a\n",
      "c b\n",
      "c d\n",
      "d a\n",
      "d b\n",
      "d c\n"
     ]
    }
   ],
   "source": [
    "#How many different permutations are there of 2 letters from \"abcd\"?\n",
    "import itertools\n",
    " \n",
    "st = \"abcd\"\n",
    " \n",
    "per = itertools.permutations(st, 2)\n",
    " \n",
    "for val in per:\n",
    "    print(*val)"
   ]
  },
  {
   "cell_type": "code",
   "execution_count": 10,
   "id": "698abbd6",
   "metadata": {},
   "outputs": [],
   "source": [
    "import json"
   ]
  },
  {
   "cell_type": "code",
   "execution_count": 22,
   "id": "1b549ea5",
   "metadata": {},
   "outputs": [],
   "source": [
    "profiles = json.load(open('profiles.json'))"
   ]
  },
  {
   "cell_type": "markdown",
   "id": "255e0b01",
   "metadata": {},
   "source": [
    "# Your code should produce a list of dictionaries. Using this data, write some code that calculates and outputs the following information:\n",
    "\n",
    "Total number of users\n",
    "\n",
    "Number of active users\n",
    "\n",
    "Number of inactive users\n",
    "\n",
    "Grand total of balances for all users\n",
    "\n",
    "Average balance per user\n",
    "\n",
    "User with the lowest balance\n",
    "\n",
    "User with the highest balance\n",
    "\n",
    "Most common favorite fruit\n",
    "\n",
    "Least most common favorite fruit\n",
    "\n",
    "Total number of unread messages for all users"
   ]
  },
  {
   "cell_type": "code",
   "execution_count": 23,
   "id": "8db67d72",
   "metadata": {},
   "outputs": [
    {
     "data": {
      "text/plain": [
       "{'_id': '54e23c3e46ab53a440b580e8',\n",
       " 'index': 0,\n",
       " 'guid': '9962b468-ef3e-4993-b677-617469bc3008',\n",
       " 'isActive': False,\n",
       " 'balance': '$2,097.02',\n",
       " 'picture': 'http://placehold.it/32x32',\n",
       " 'age': 39,\n",
       " 'eyeColor': 'blue',\n",
       " 'name': 'Hebert Estes',\n",
       " 'gender': 'male',\n",
       " 'company': 'ANDRYX',\n",
       " 'email': 'hebertestes@andryx.com',\n",
       " 'phone': '+1 (866) 456-2268',\n",
       " 'address': '121 Emmons Avenue, Klondike, Kentucky, 5975',\n",
       " 'about': 'Sit cillum deserunt irure laboris tempor fugiat laboris. Amet commodo amet est incididunt. Dolore qui fugiat cillum pariatur dolore excepteur elit ipsum.\\r\\n',\n",
       " 'registered': '2014-11-10T01:44:03 +06:00',\n",
       " 'latitude': -80.157843,\n",
       " 'longitude': 161.93016,\n",
       " 'tags': ['sit', 'occaecat', 'non', 'ea', 'sit', 'laboris', 'exercitation'],\n",
       " 'friends': [{'id': 0, 'name': 'Tanisha Leonard'},\n",
       "  {'id': 1, 'name': 'Dennis Wilson'},\n",
       "  {'id': 2, 'name': 'Lupe Howe'}],\n",
       " 'greeting': 'Hello, Hebert Estes! You have 4 unread messages.',\n",
       " 'favoriteFruit': 'strawberry'}"
      ]
     },
     "execution_count": 23,
     "metadata": {},
     "output_type": "execute_result"
    }
   ],
   "source": [
    "profiles[0]"
   ]
  },
  {
   "cell_type": "code",
   "execution_count": 27,
   "id": "74c57b14",
   "metadata": {},
   "outputs": [
    {
     "data": {
      "text/plain": [
       "{'_id': '54e23c3ef5cc0d250968c212',\n",
       " 'index': 1,\n",
       " 'guid': '905f849d-49bf-4a57-b4f3-5d6e4bf1b04c',\n",
       " 'isActive': False,\n",
       " 'balance': '$3,654.02',\n",
       " 'picture': 'http://placehold.it/32x32',\n",
       " 'age': 30,\n",
       " 'eyeColor': 'green',\n",
       " 'name': 'Allison Wynn',\n",
       " 'gender': 'male',\n",
       " 'company': 'PHARMACON',\n",
       " 'email': 'allisonwynn@pharmacon.com',\n",
       " 'phone': '+1 (926) 525-3131',\n",
       " 'address': '724 Brevoort Place, Lodoga, Indiana, 3880',\n",
       " 'about': 'Esse quis cillum sunt occaecat ad et eu incididunt aliquip dolor. Adipisicing labore magna anim cillum nisi. Elit mollit consequat velit nulla cillum excepteur elit ullamco deserunt. Anim aliquip Lorem excepteur ad veniam et labore in qui ullamco. Occaecat sit do incididunt voluptate id magna ea amet.\\r\\n',\n",
       " 'registered': '2014-06-10T13:41:26 +05:00',\n",
       " 'latitude': 55.737207,\n",
       " 'longitude': -167.177561,\n",
       " 'tags': ['enim',\n",
       "  'officia',\n",
       "  'laboris',\n",
       "  'irure',\n",
       "  'veniam',\n",
       "  'occaecat',\n",
       "  'pariatur'],\n",
       " 'friends': [{'id': 0, 'name': 'Curry Cox'},\n",
       "  {'id': 1, 'name': 'Alma Dale'},\n",
       "  {'id': 2, 'name': 'Barbara Mayo'}],\n",
       " 'greeting': 'Hello, Allison Wynn! You have 19 unread messages.',\n",
       " 'favoriteFruit': 'apple'}"
      ]
     },
     "execution_count": 27,
     "metadata": {},
     "output_type": "execute_result"
    }
   ],
   "source": [
    "profiles[1]"
   ]
  },
  {
   "cell_type": "code",
   "execution_count": 36,
   "id": "054a538d",
   "metadata": {},
   "outputs": [
    {
     "data": {
      "text/plain": [
       "list"
      ]
     },
     "execution_count": 36,
     "metadata": {},
     "output_type": "execute_result"
    }
   ],
   "source": [
    "type(profiles)"
   ]
  },
  {
   "cell_type": "code",
   "execution_count": 45,
   "id": "c5865b5f",
   "metadata": {},
   "outputs": [],
   "source": [
    "def get_total_users(total):\n",
    "    return total[count('index')]"
   ]
  },
  {
   "cell_type": "code",
   "execution_count": 49,
   "id": "cef667f3",
   "metadata": {},
   "outputs": [
    {
     "ename": "TypeError",
     "evalue": "list indices must be integers or slices, not str",
     "output_type": "error",
     "traceback": [
      "\u001b[0;31m---------------------------------------------------------------------------\u001b[0m",
      "\u001b[0;31mTypeError\u001b[0m                                 Traceback (most recent call last)",
      "\u001b[0;32m<ipython-input-49-68cca2d3fdaa>\u001b[0m in \u001b[0;36m<module>\u001b[0;34m\u001b[0m\n\u001b[0;32m----> 1\u001b[0;31m \u001b[0mprofiles\u001b[0m\u001b[0;34m[\u001b[0m\u001b[0;34m'index'\u001b[0m\u001b[0;34m]\u001b[0m\u001b[0;34m\u001b[0m\u001b[0;34m\u001b[0m\u001b[0m\n\u001b[0m",
      "\u001b[0;31mTypeError\u001b[0m: list indices must be integers or slices, not str"
     ]
    }
   ],
   "source": [
    "profiles['index']"
   ]
  },
  {
   "cell_type": "code",
   "execution_count": null,
   "id": "fb94899b",
   "metadata": {},
   "outputs": [],
   "source": []
  }
 ],
 "metadata": {
  "kernelspec": {
   "display_name": "Python 3",
   "language": "python",
   "name": "python3"
  },
  "language_info": {
   "codemirror_mode": {
    "name": "ipython",
    "version": 3
   },
   "file_extension": ".py",
   "mimetype": "text/x-python",
   "name": "python",
   "nbconvert_exporter": "python",
   "pygments_lexer": "ipython3",
   "version": "3.8.8"
  }
 },
 "nbformat": 4,
 "nbformat_minor": 5
}
