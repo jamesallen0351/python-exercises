{
 "cells": [
  {
   "cell_type": "code",
   "execution_count": 16,
   "id": "095610d8",
   "metadata": {},
   "outputs": [
    {
     "data": {
      "text/plain": [
       "27"
      ]
     },
     "execution_count": 16,
     "metadata": {},
     "output_type": "execute_result"
    }
   ],
   "source": [
    "little_mermaid = 3\n",
    "brother_bear = 5\n",
    "hercules = 1\n",
    "movie_price_per_day = 3\n",
    "\n",
    "days = 3 + 5 + 1\n",
    "\n",
    "total = movie_price_per_day * days\n",
    "total"
   ]
  },
  {
   "cell_type": "code",
   "execution_count": 8,
   "id": "a3775c87",
   "metadata": {},
   "outputs": [
    {
     "data": {
      "text/plain": [
       "['little_mermaid', 'brother_bear', 'hercules']"
      ]
     },
     "execution_count": 8,
     "metadata": {},
     "output_type": "execute_result"
    }
   ],
   "source": [
    "movies = [\n",
    "    \"little_mermaid\",\n",
    "    \"brother_bear\",\n",
    "    \"hercules\"\n",
    "]\n",
    "\n",
    "movies"
   ]
  },
  {
   "cell_type": "code",
   "execution_count": 10,
   "id": "99321510",
   "metadata": {},
   "outputs": [
    {
     "data": {
      "text/plain": [
       "['Google', 'Amazon', 'facebook']"
      ]
     },
     "execution_count": 10,
     "metadata": {},
     "output_type": "execute_result"
    }
   ],
   "source": [
    "company = [\n",
    "    \"Google\",\n",
    "    \"Amazon\",\n",
    "    \"facebook\"\n",
    "]\n",
    "company"
   ]
  },
  {
   "cell_type": "code",
   "execution_count": 17,
   "id": "2809b974",
   "metadata": {},
   "outputs": [
    {
     "data": {
      "text/plain": [
       "7420"
      ]
     },
     "execution_count": 17,
     "metadata": {},
     "output_type": "execute_result"
    }
   ],
   "source": [
    "google = 400\n",
    "amazon = 380\n",
    "facebook = 350\n",
    "\n",
    "payment = (google * 6) + (amazon * 4) + (facebook * 10)\n",
    "\n",
    "payment"
   ]
  },
  {
   "cell_type": "code",
   "execution_count": 18,
   "id": "e92d9b08",
   "metadata": {},
   "outputs": [],
   "source": [
    "class_not_full = True\n",
    "does_not_conflict = True\n",
    "\n",
    "student_enroll_in_class = class_not_full and does_not_conflict"
   ]
  },
  {
   "cell_type": "code",
   "execution_count": 19,
   "id": "5b967a3f",
   "metadata": {},
   "outputs": [],
   "source": [
    "buy_2_or_more = True\n",
    "offer_not_expired = True\n",
    "premium_member = True\n",
    "\n",
    "product_offer = (buy_2_or_more or premium_member) and offer_not_expired"
   ]
  },
  {
   "cell_type": "code",
   "execution_count": 20,
   "id": "70ff7d21",
   "metadata": {},
   "outputs": [],
   "source": [
    "username = 'codeup'\n",
    "password = 'notastrongpassword'"
   ]
  },
  {
   "cell_type": "code",
   "execution_count": 21,
   "id": "b8fd6772",
   "metadata": {},
   "outputs": [],
   "source": [
    "password_at_least_5_characters = len(password) >= 5\n",
    "username_no_more_than_20_characters = len(username) < 20\n",
    "password_not_equal_username = password != username\n",
    "username_or_password_not_start_or_end_whitespace = (password[0] != ' ' and password[-1] != ' ') and (username[0] != ' ' and username[-1] != ' ')"
   ]
  },
  {
   "cell_type": "code",
   "execution_count": null,
   "id": "e9969ada",
   "metadata": {},
   "outputs": [],
   "source": []
  }
 ],
 "metadata": {
  "kernelspec": {
   "display_name": "Python 3",
   "language": "python",
   "name": "python3"
  },
  "language_info": {
   "codemirror_mode": {
    "name": "ipython",
    "version": 3
   },
   "file_extension": ".py",
   "mimetype": "text/x-python",
   "name": "python",
   "nbconvert_exporter": "python",
   "pygments_lexer": "ipython3",
   "version": "3.8.8"
  }
 },
 "nbformat": 4,
 "nbformat_minor": 5
}
