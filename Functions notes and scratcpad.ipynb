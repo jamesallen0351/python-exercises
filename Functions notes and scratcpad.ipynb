{
 "cells": [
  {
   "cell_type": "markdown",
   "id": "ef225180",
   "metadata": {},
   "source": [
    "## Function notes and scratchpad\n"
   ]
  },
  {
   "cell_type": "markdown",
   "id": "5d9fcfda",
   "metadata": {},
   "source": [
    "function: a reusable piece of code; takes inputs and produces outputs\n",
    "\n",
    "invoke: to run a function; aka \"call\"\n",
    "\n",
    "parameter: a part of the function definition:placeholders for arguments\n",
    "\n",
    "argument: the value passed to a function when it is invoked\n",
    "\n",
    "return value: the value a function produces; a return exits a function\n"
   ]
  },
  {
   "cell_type": "code",
   "execution_count": 1,
   "id": "2ee2633e",
   "metadata": {},
   "outputs": [],
   "source": [
    "def increment(n):\n",
    "    \"\"\"This function adds one to any input.\"\"\"  #docstring\n",
    "    return n + 1"
   ]
  },
  {
   "cell_type": "code",
   "execution_count": 2,
   "id": "12fb4862",
   "metadata": {},
   "outputs": [
    {
     "data": {
      "text/plain": [
       "1"
      ]
     },
     "execution_count": 2,
     "metadata": {},
     "output_type": "execute_result"
    }
   ],
   "source": [
    "increment(0)"
   ]
  },
  {
   "cell_type": "code",
   "execution_count": 4,
   "id": "448392ab",
   "metadata": {},
   "outputs": [],
   "source": [
    "increment?"
   ]
  },
  {
   "cell_type": "code",
   "execution_count": 5,
   "id": "6ae63a3e",
   "metadata": {},
   "outputs": [
    {
     "data": {
      "text/plain": [
       "7"
      ]
     },
     "execution_count": 5,
     "metadata": {},
     "output_type": "execute_result"
    }
   ],
   "source": [
    "increment(increment(5))"
   ]
  },
  {
   "cell_type": "code",
   "execution_count": 11,
   "id": "1695e9a1",
   "metadata": {},
   "outputs": [],
   "source": [
    "def is_two(a):\n",
    "    if is_two == 2:\n",
    "        return True\n",
    "    else:\n",
    "        False"
   ]
  },
  {
   "cell_type": "code",
   "execution_count": 14,
   "id": "6ff98624",
   "metadata": {},
   "outputs": [
    {
     "ename": "SyntaxError",
     "evalue": "invalid syntax (<ipython-input-14-3cd4fd72a7cd>, line 1)",
     "output_type": "error",
     "traceback": [
      "\u001b[0;36m  File \u001b[0;32m\"<ipython-input-14-3cd4fd72a7cd>\"\u001b[0;36m, line \u001b[0;32m1\u001b[0m\n\u001b[0;31m    print is_two() == 2\u001b[0m\n\u001b[0m          ^\u001b[0m\n\u001b[0;31mSyntaxError\u001b[0m\u001b[0;31m:\u001b[0m invalid syntax\n"
     ]
    }
   ],
   "source": [
    "print is_two() == 2"
   ]
  },
  {
   "cell_type": "code",
   "execution_count": 1,
   "id": "8cfa39ad",
   "metadata": {},
   "outputs": [
    {
     "name": "stdout",
     "output_type": "stream",
     "text": [
      "True\n",
      "None\n"
     ]
    }
   ],
   "source": [
    "def is_two(a):\n",
    "    if a == 2:\n",
    "        return True\n",
    "    else:\n",
    "        False\n",
    "\n",
    "\n",
    "print(is_two(2))\n",
    "print(is_two(3))"
   ]
  },
  {
   "cell_type": "code",
   "execution_count": 4,
   "id": "6a081050",
   "metadata": {},
   "outputs": [
    {
     "ename": "NameError",
     "evalue": "name 'y' is not defined",
     "output_type": "error",
     "traceback": [
      "\u001b[0;31m---------------------------------------------------------------------------\u001b[0m",
      "\u001b[0;31mNameError\u001b[0m                                 Traceback (most recent call last)",
      "\u001b[0;32m<ipython-input-4-3df3d517a481>\u001b[0m in \u001b[0;36m<module>\u001b[0;34m\u001b[0m\n\u001b[1;32m      5\u001b[0m         \u001b[0;32mFalse\u001b[0m\u001b[0;34m\u001b[0m\u001b[0;34m\u001b[0m\u001b[0m\n\u001b[1;32m      6\u001b[0m \u001b[0;34m\u001b[0m\u001b[0m\n\u001b[0;32m----> 7\u001b[0;31m \u001b[0mprint\u001b[0m\u001b[0;34m(\u001b[0m\u001b[0mis_vowel\u001b[0m\u001b[0;34m(\u001b[0m\u001b[0my\u001b[0m\u001b[0;34m)\u001b[0m\u001b[0;34m)\u001b[0m\u001b[0;34m\u001b[0m\u001b[0;34m\u001b[0m\u001b[0m\n\u001b[0m\u001b[1;32m      8\u001b[0m \u001b[0mprint\u001b[0m\u001b[0;34m(\u001b[0m\u001b[0mis_vowel\u001b[0m\u001b[0;34m(\u001b[0m\u001b[0mx\u001b[0m\u001b[0;34m)\u001b[0m\u001b[0;34m)\u001b[0m\u001b[0;34m\u001b[0m\u001b[0;34m\u001b[0m\u001b[0m\n",
      "\u001b[0;31mNameError\u001b[0m: name 'y' is not defined"
     ]
    }
   ],
   "source": [
    "def is_vowel(a):\n",
    "    if a == [\"a\", \"e\", \"i\", \"o\", \"u\"]:\n",
    "        return True\n",
    "    else:\n",
    "        False\n",
    "\n",
    "print(is_vowel(y))\n",
    "print(is_vowel(x))"
   ]
  },
  {
   "cell_type": "code",
   "execution_count": null,
   "id": "92131c4e",
   "metadata": {},
   "outputs": [],
   "source": []
  }
 ],
 "metadata": {
  "kernelspec": {
   "display_name": "Python 3",
   "language": "python",
   "name": "python3"
  },
  "language_info": {
   "codemirror_mode": {
    "name": "ipython",
    "version": 3
   },
   "file_extension": ".py",
   "mimetype": "text/x-python",
   "name": "python",
   "nbconvert_exporter": "python",
   "pygments_lexer": "ipython3",
   "version": "3.8.8"
  }
 },
 "nbformat": 4,
 "nbformat_minor": 5
}
