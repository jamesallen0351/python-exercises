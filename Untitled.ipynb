{
 "cells": [
  {
   "cell_type": "markdown",
   "id": "ef225180",
   "metadata": {},
   "source": [
    "## Function notes and scratchpad\n"
   ]
  },
  {
   "cell_type": "markdown",
   "id": "5d9fcfda",
   "metadata": {},
   "source": [
    "function: a reusable piece of code; takes inputs and produces outputs\n",
    "\n",
    "invoke: to run a function; aka \"call\"\n",
    "\n",
    "parameter: a part of the function definition:placeholders for arguments\n",
    "\n",
    "argument: the value passed to a function when it is invoked\n",
    "\n",
    "return value: the value a function produces; a return exits a function\n"
   ]
  },
  {
   "cell_type": "code",
   "execution_count": 1,
   "id": "2ee2633e",
   "metadata": {},
   "outputs": [],
   "source": [
    "def increment(n):\n",
    "    \"\"\"This function adds one to any input.\"\"\"  #docstring\n",
    "    return n + 1"
   ]
  },
  {
   "cell_type": "code",
   "execution_count": 2,
   "id": "12fb4862",
   "metadata": {},
   "outputs": [
    {
     "data": {
      "text/plain": [
       "1"
      ]
     },
     "execution_count": 2,
     "metadata": {},
     "output_type": "execute_result"
    }
   ],
   "source": [
    "increment(0)"
   ]
  },
  {
   "cell_type": "code",
   "execution_count": 4,
   "id": "448392ab",
   "metadata": {},
   "outputs": [],
   "source": [
    "increment?"
   ]
  },
  {
   "cell_type": "code",
   "execution_count": 5,
   "id": "6ae63a3e",
   "metadata": {},
   "outputs": [
    {
     "data": {
      "text/plain": [
       "7"
      ]
     },
     "execution_count": 5,
     "metadata": {},
     "output_type": "execute_result"
    }
   ],
   "source": [
    "increment(increment(5))"
   ]
  },
  {
   "cell_type": "code",
   "execution_count": null,
   "id": "1695e9a1",
   "metadata": {},
   "outputs": [],
   "source": []
  },
  {
   "cell_type": "code",
   "execution_count": null,
   "id": "6ff98624",
   "metadata": {},
   "outputs": [],
   "source": []
  }
 ],
 "metadata": {
  "kernelspec": {
   "display_name": "Python 3",
   "language": "python",
   "name": "python3"
  },
  "language_info": {
   "codemirror_mode": {
    "name": "ipython",
    "version": 3
   },
   "file_extension": ".py",
   "mimetype": "text/x-python",
   "name": "python",
   "nbconvert_exporter": "python",
   "pygments_lexer": "ipython3",
   "version": "3.8.8"
  }
 },
 "nbformat": 4,
 "nbformat_minor": 5
}
