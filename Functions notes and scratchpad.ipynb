{
 "cells": [
  {
   "cell_type": "markdown",
   "id": "ef225180",
   "metadata": {},
   "source": [
    "## Function notes and scratchpad\n"
   ]
  },
  {
   "cell_type": "markdown",
   "id": "5d9fcfda",
   "metadata": {},
   "source": [
    "function: a reusable piece of code; takes inputs and produces outputs\n",
    "\n",
    "invoke: to run a function; aka \"call\"\n",
    "\n",
    "parameter: a part of the function definition:placeholders for arguments\n",
    "\n",
    "argument: the value passed to a function when it is invoked\n",
    "\n",
    "return value: the value a function produces; a return exits a function\n"
   ]
  },
  {
   "cell_type": "code",
   "execution_count": 1,
   "id": "2ee2633e",
   "metadata": {},
   "outputs": [],
   "source": [
    "def increment(n):\n",
    "    \"\"\"This function adds one to any input.\"\"\"  #docstring\n",
    "    return n + 1"
   ]
  },
  {
   "cell_type": "code",
   "execution_count": 2,
   "id": "12fb4862",
   "metadata": {},
   "outputs": [
    {
     "data": {
      "text/plain": [
       "1"
      ]
     },
     "execution_count": 2,
     "metadata": {},
     "output_type": "execute_result"
    }
   ],
   "source": [
    "increment(0)"
   ]
  },
  {
   "cell_type": "code",
   "execution_count": 4,
   "id": "448392ab",
   "metadata": {},
   "outputs": [],
   "source": [
    "increment?"
   ]
  },
  {
   "cell_type": "code",
   "execution_count": 5,
   "id": "6ae63a3e",
   "metadata": {},
   "outputs": [
    {
     "data": {
      "text/plain": [
       "7"
      ]
     },
     "execution_count": 5,
     "metadata": {},
     "output_type": "execute_result"
    }
   ],
   "source": [
    "increment(increment(5))"
   ]
  },
  {
   "cell_type": "code",
   "execution_count": 11,
   "id": "1695e9a1",
   "metadata": {},
   "outputs": [],
   "source": [
    "def is_two(a):\n",
    "    if is_two == 2:\n",
    "        return True\n",
    "    else:\n",
    "        False"
   ]
  },
  {
   "cell_type": "code",
   "execution_count": 14,
   "id": "6ff98624",
   "metadata": {},
   "outputs": [
    {
     "ename": "SyntaxError",
     "evalue": "invalid syntax (<ipython-input-14-3cd4fd72a7cd>, line 1)",
     "output_type": "error",
     "traceback": [
      "\u001b[0;36m  File \u001b[0;32m\"<ipython-input-14-3cd4fd72a7cd>\"\u001b[0;36m, line \u001b[0;32m1\u001b[0m\n\u001b[0;31m    print is_two() == 2\u001b[0m\n\u001b[0m          ^\u001b[0m\n\u001b[0;31mSyntaxError\u001b[0m\u001b[0;31m:\u001b[0m invalid syntax\n"
     ]
    }
   ],
   "source": [
    "print is_two() == 2"
   ]
  },
  {
   "cell_type": "code",
   "execution_count": 14,
   "id": "8cfa39ad",
   "metadata": {},
   "outputs": [
    {
     "name": "stdout",
     "output_type": "stream",
     "text": [
      "True\n",
      "None\n"
     ]
    }
   ],
   "source": [
    "def is_two(a):\n",
    "    if a == 2:\n",
    "        return True\n",
    "    else:\n",
    "        False\n",
    "\n",
    "print(is_two(2))\n",
    "print(is_two(3))"
   ]
  },
  {
   "cell_type": "code",
   "execution_count": 6,
   "id": "6a081050",
   "metadata": {},
   "outputs": [
    {
     "name": "stdout",
     "output_type": "stream",
     "text": [
      "None\n",
      "None\n"
     ]
    }
   ],
   "source": [
    "def is_vowel(vowel):\n",
    "    if vowel == (\"a\", \"e\", \"i\", \"o\", \"u\"):\n",
    "        return True\n",
    "    else:\n",
    "        False\n",
    "\n",
    "print(is_vowel(\"a\"))\n",
    "print(is_vowel(\"x\"))"
   ]
  },
  {
   "cell_type": "code",
   "execution_count": 4,
   "id": "92131c4e",
   "metadata": {},
   "outputs": [
    {
     "name": "stdout",
     "output_type": "stream",
     "text": [
      "True\n",
      "False\n"
     ]
    }
   ],
   "source": [
    "def is_vowel(vowel):\n",
    "    return vowel.lower() in 'aeiou'\n",
    "print(is_vowel(\"a\"))\n",
    "print(is_vowel(\"b\"))"
   ]
  },
  {
   "cell_type": "code",
   "execution_count": 19,
   "id": "5383f970",
   "metadata": {},
   "outputs": [
    {
     "name": "stdout",
     "output_type": "stream",
     "text": [
      "True\n",
      "False\n"
     ]
    }
   ],
   "source": [
    "def is_consonant(consonant):\n",
    "    return consonant.lower() in 'bccdfghjklmnpqrstvwxyz'\n",
    "\n",
    "print(is_consonant('x'))\n",
    "print(is_consonant('a'))"
   ]
  },
  {
   "cell_type": "code",
   "execution_count": 30,
   "id": "701a110f",
   "metadata": {},
   "outputs": [
    {
     "ename": "SyntaxError",
     "evalue": "invalid syntax (<ipython-input-30-53a905fe4d32>, line 7)",
     "output_type": "error",
     "traceback": [
      "\u001b[0;36m  File \u001b[0;32m\"<ipython-input-30-53a905fe4d32>\"\u001b[0;36m, line \u001b[0;32m7\u001b[0m\n\u001b[0;31m    total = (sub_total + tip)\u001b[0m\n\u001b[0m    ^\u001b[0m\n\u001b[0;31mSyntaxError\u001b[0m\u001b[0;31m:\u001b[0m invalid syntax\n"
     ]
    }
   ],
   "source": [
    "sub_total = input(\"What is the bill total?\")\n",
    "\n",
    "percentage = input(\"What percent do you want to tip, ex. 10, 15, 20?\")\n",
    "\n",
    "def calculate_tip(percentage, sub_total):\n",
    "    tip = ((sub_total * (percentage / 100))\n",
    "    total = (sub_total + tip)\n",
    "    return total\n",
    "\n",
    "print(calculate_tip(percentage, sub_total))"
   ]
  },
  {
   "cell_type": "code",
   "execution_count": 31,
   "id": "23ef91f9",
   "metadata": {},
   "outputs": [
    {
     "ename": "SyntaxError",
     "evalue": "invalid syntax (<ipython-input-31-12f81e41198e>, line 10)",
     "output_type": "error",
     "traceback": [
      "\u001b[0;36m  File \u001b[0;32m\"<ipython-input-31-12f81e41198e>\"\u001b[0;36m, line \u001b[0;32m10\u001b[0m\n\u001b[0;31m    print get_tip(percentage, sub_total)\u001b[0m\n\u001b[0m          ^\u001b[0m\n\u001b[0;31mSyntaxError\u001b[0m\u001b[0;31m:\u001b[0m invalid syntax\n"
     ]
    }
   ],
   "source": [
    "def get_tip(percentage, sub_total):\n",
    "    tip = ((sub_total * percentage) / 100)\n",
    "    total = (sub_total + tip)\n",
    "    return total\n",
    "\n",
    "sub_total = input(\"How much is the bill?\")\n",
    "\n",
    "percentage = input(\"What percentage should the tip be?\")\n",
    "\n",
    "print get_tip(percentage, sub_total)"
   ]
  },
  {
   "cell_type": "code",
   "execution_count": 2,
   "id": "d51f7da1",
   "metadata": {},
   "outputs": [
    {
     "name": "stdout",
     "output_type": "stream",
     "text": [
      "How much is the bill?20\n",
      "What percentage should the tip be?20\n"
     ]
    },
    {
     "ename": "TypeError",
     "evalue": "can't multiply sequence by non-int of type 'str'",
     "output_type": "error",
     "traceback": [
      "\u001b[0;31m---------------------------------------------------------------------------\u001b[0m",
      "\u001b[0;31mTypeError\u001b[0m                                 Traceback (most recent call last)",
      "\u001b[0;32m<ipython-input-2-ad9b38d45043>\u001b[0m in \u001b[0;36m<module>\u001b[0;34m\u001b[0m\n\u001b[1;32m      8\u001b[0m \u001b[0mpercentage\u001b[0m \u001b[0;34m=\u001b[0m \u001b[0minput\u001b[0m\u001b[0;34m(\u001b[0m\u001b[0;34m\"What percentage should the tip be?\"\u001b[0m\u001b[0;34m)\u001b[0m\u001b[0;34m\u001b[0m\u001b[0;34m\u001b[0m\u001b[0m\n\u001b[1;32m      9\u001b[0m \u001b[0;34m\u001b[0m\u001b[0m\n\u001b[0;32m---> 10\u001b[0;31m \u001b[0mprint\u001b[0m\u001b[0;34m(\u001b[0m\u001b[0mget_tip\u001b[0m\u001b[0;34m(\u001b[0m\u001b[0mpercentage\u001b[0m\u001b[0;34m,\u001b[0m \u001b[0msub_total\u001b[0m\u001b[0;34m)\u001b[0m\u001b[0;34m)\u001b[0m\u001b[0;34m\u001b[0m\u001b[0;34m\u001b[0m\u001b[0m\n\u001b[0m",
      "\u001b[0;32m<ipython-input-2-ad9b38d45043>\u001b[0m in \u001b[0;36mget_tip\u001b[0;34m(percentage, sub_total)\u001b[0m\n\u001b[1;32m      1\u001b[0m \u001b[0;32mdef\u001b[0m \u001b[0mget_tip\u001b[0m\u001b[0;34m(\u001b[0m\u001b[0mpercentage\u001b[0m\u001b[0;34m,\u001b[0m \u001b[0msub_total\u001b[0m\u001b[0;34m)\u001b[0m\u001b[0;34m:\u001b[0m\u001b[0;34m\u001b[0m\u001b[0;34m\u001b[0m\u001b[0m\n\u001b[0;32m----> 2\u001b[0;31m     \u001b[0mtip\u001b[0m \u001b[0;34m=\u001b[0m \u001b[0;34m(\u001b[0m\u001b[0;34m(\u001b[0m\u001b[0msub_total\u001b[0m \u001b[0;34m*\u001b[0m \u001b[0mpercentage\u001b[0m\u001b[0;34m)\u001b[0m \u001b[0;34m/\u001b[0m \u001b[0;36m100\u001b[0m\u001b[0;34m)\u001b[0m\u001b[0;34m\u001b[0m\u001b[0;34m\u001b[0m\u001b[0m\n\u001b[0m\u001b[1;32m      3\u001b[0m     \u001b[0mtotal\u001b[0m \u001b[0;34m=\u001b[0m \u001b[0;34m(\u001b[0m\u001b[0msub_total\u001b[0m \u001b[0;34m+\u001b[0m \u001b[0mtip\u001b[0m\u001b[0;34m)\u001b[0m\u001b[0;34m\u001b[0m\u001b[0;34m\u001b[0m\u001b[0m\n\u001b[1;32m      4\u001b[0m     \u001b[0;32mreturn\u001b[0m \u001b[0mtotal\u001b[0m\u001b[0;34m\u001b[0m\u001b[0;34m\u001b[0m\u001b[0m\n\u001b[1;32m      5\u001b[0m \u001b[0;34m\u001b[0m\u001b[0m\n",
      "\u001b[0;31mTypeError\u001b[0m: can't multiply sequence by non-int of type 'str'"
     ]
    }
   ],
   "source": [
    "def get_tip(percentage, sub_total):\n",
    "    tip = ((sub_total * percentage) / 100)\n",
    "    total = (sub_total + tip)\n",
    "    return total\n",
    "\n",
    "sub_total = input(\"How much is the bill?\")\n",
    "\n",
    "percentage = input(\"What percentage should the tip be?\")\n",
    "\n",
    "print(get_tip(percentage, sub_total))"
   ]
  },
  {
   "cell_type": "code",
   "execution_count": 6,
   "id": "2a8ecef3",
   "metadata": {},
   "outputs": [
    {
     "ename": "SyntaxError",
     "evalue": "invalid syntax (<ipython-input-6-1f7e642c7790>, line 3)",
     "output_type": "error",
     "traceback": [
      "\u001b[0;36m  File \u001b[0;32m\"<ipython-input-6-1f7e642c7790>\"\u001b[0;36m, line \u001b[0;32m3\u001b[0m\n\u001b[0;31m    total = (sub_total + tip)\u001b[0m\n\u001b[0m    ^\u001b[0m\n\u001b[0;31mSyntaxError\u001b[0m\u001b[0;31m:\u001b[0m invalid syntax\n"
     ]
    }
   ],
   "source": [
    "def calculate_tip(percentage, sub_total):\n",
    "    tip = ((sub_total * (percentage / 100))\n",
    "    total = (sub_total + tip)\n",
    "    return total\n",
    "\n",
    "sub_total = input(\"What is the bill total?\")\n",
    "\n",
    "percentage = input(\"What percent do you want to tip, ex. 10, 15, 20?\")\n",
    "\n",
    "print(calculate_tip(percentage, sub_total))"
   ]
  },
  {
   "cell_type": "code",
   "execution_count": 7,
   "id": "11560371",
   "metadata": {},
   "outputs": [
    {
     "name": "stdout",
     "output_type": "stream",
     "text": [
      "A\n",
      "B\n",
      "C\n",
      "D\n",
      "F\n"
     ]
    }
   ],
   "source": [
    "def get_letter_grade(grade):\n",
    "    if type(grade) == str:\n",
    "        return \"Not valid number grade\"\n",
    "    elif type(grade) == float or int:\n",
    "        if grade <= 100 and grade >= 90:\n",
    "            return \"A\"\n",
    "        if grade <= 89 and grade >= 80:\n",
    "            return \"B\"\n",
    "        if grade <= 79 and grade >= 70:\n",
    "            return \"C\"\n",
    "        if grade <= 69 and grade >= 60:\n",
    "            return \"D\"\n",
    "        if grade <= 59:\n",
    "            return \"F\"\n",
    "\n",
    "print(get_letter_grade(90))\n",
    "print(get_letter_grade(80))\n",
    "print(get_letter_grade(70))\n",
    "print(get_letter_grade(60))\n",
    "print(get_letter_grade(59))\n"
   ]
  },
  {
   "cell_type": "code",
   "execution_count": 14,
   "id": "d54397cb",
   "metadata": {},
   "outputs": [
    {
     "name": "stdout",
     "output_type": "stream",
     "text": [
      "tcs\n",
      "nchlds\n",
      "nchs\n"
     ]
    }
   ],
   "source": [
    "def remove_vowels(something):\n",
    "    letters = list(something)\n",
    "    for letter in letters:\n",
    "        if is_vowel(letter):\n",
    "            letters.remove(letter)\n",
    "    return ''.join(letters)\n",
    "\n",
    "print(remove_vowels(\"tacos\"))\n",
    "print(remove_vowels(\"enchiladas\"))\n",
    "print(remove_vowels(\"nachos\"))"
   ]
  },
  {
   "cell_type": "code",
   "execution_count": 18,
   "id": "dfee8958",
   "metadata": {},
   "outputs": [
    {
     "ename": "NameError",
     "evalue": "name 'Name' is not defined",
     "output_type": "error",
     "traceback": [
      "\u001b[0;31m---------------------------------------------------------------------------\u001b[0m",
      "\u001b[0;31mNameError\u001b[0m                                 Traceback (most recent call last)",
      "\u001b[0;32m<ipython-input-18-4dc6c944259c>\u001b[0m in \u001b[0;36m<module>\u001b[0;34m\u001b[0m\n\u001b[1;32m     16\u001b[0m     \u001b[0;32mreturn\u001b[0m \u001b[0mnormalized\u001b[0m\u001b[0;34m\u001b[0m\u001b[0;34m\u001b[0m\u001b[0m\n\u001b[1;32m     17\u001b[0m \u001b[0;34m\u001b[0m\u001b[0m\n\u001b[0;32m---> 18\u001b[0;31m \u001b[0mprint\u001b[0m\u001b[0;34m(\u001b[0m\u001b[0mnormalize_name\u001b[0m\u001b[0;34m(\u001b[0m\u001b[0mName\u001b[0m\u001b[0;34m)\u001b[0m\u001b[0;34m)\u001b[0m\u001b[0;34m\u001b[0m\u001b[0;34m\u001b[0m\u001b[0m\n\u001b[0m\u001b[1;32m     19\u001b[0m \u001b[0mprint\u001b[0m\u001b[0;34m(\u001b[0m\u001b[0mnormalize_name\u001b[0m\u001b[0;34m(\u001b[0m\u001b[0mName\u001b[0m\u001b[0;34m)\u001b[0m\u001b[0;34m)\u001b[0m\u001b[0;34m\u001b[0m\u001b[0;34m\u001b[0m\u001b[0m\n",
      "\u001b[0;31mNameError\u001b[0m: name 'Name' is not defined"
     ]
    }
   ],
   "source": [
    "def normalize_name(name):\n",
    "    normalized = name.lower()\n",
    "    if normalized.endswith(u\"_name\"):\n",
    "            useless_suffix_length = len(u\"_name\")\n",
    "            normalized = normalized[:-useless_suffix_length]\n",
    "    elif normalized.endswith(u\"_name;\"):\n",
    "            useless_suffix_length = len(u\"_name;\")\n",
    "            normalized = normalized[:-useless_suffix_length]\n",
    "\n",
    "    if normalized.startswith(u\"$\"):\n",
    "            normalized = normalized[1:]\n",
    "    \n",
    "    if normalized.startswith((u\"int_\", u\"ext_\", u\"hpt_\")):\n",
    "            normalized = normalized[4:]\n",
    "    \n",
    "    return normalized \n",
    "\n",
    "print(normalize_name(Name))\n",
    "print(normalize_name(Name))"
   ]
  },
  {
   "cell_type": "code",
   "execution_count": 24,
   "id": "77566642",
   "metadata": {},
   "outputs": [
    {
     "name": "stdout",
     "output_type": "stream",
     "text": [
      "name\n",
      "name\n",
      "first name\n"
     ]
    }
   ],
   "source": [
    "def normalize_name(name):\n",
    "        normalized = name.lower()\n",
    "        \n",
    "        if normalized.endswith(u\"_name\"):\n",
    "            useless_suffix_length = len(u\"_name\")\n",
    "            normalized = normalized[:-useless_suffix_length]\n",
    "        elif normalized.endswith(u\"_name;\"):\n",
    "            useless_suffix_length = len(u\"_name;\")\n",
    "            normalized = normalized[:-useless_suffix_length]\n",
    "\n",
    "        if normalized.startswith(u\"$\"):\n",
    "            normalized = normalized[1:]\n",
    "\n",
    " \n",
    "        if normalized.startswith((u\"int_\", u\"ext_\", u\"hpt_\")):\n",
    "            normalized = normalized[4:]\n",
    "        return normalized \n",
    "    \n",
    "print(normalize_name(\"NAME\"))\n",
    "print(normalize_name(\"Name\"))\n",
    "print(normalize_name(\"FirstName\"))"
   ]
  },
  {
   "cell_type": "code",
   "execution_count": 26,
   "id": "c5d3568f",
   "metadata": {},
   "outputs": [
    {
     "name": "stdout",
     "output_type": "stream",
     "text": [
      "15\n",
      "40\n"
     ]
    }
   ],
   "source": [
    "def cumulative_sum(number):\n",
    "    return sum(number)\n",
    "\n",
    "print(cumulative_sum([1,2,3,4,5]))\n",
    "print(cumulative_sum([6,7,8,9,10]))"
   ]
  },
  {
   "cell_type": "code",
   "execution_count": 28,
   "id": "a121e0a1",
   "metadata": {},
   "outputs": [
    {
     "name": "stdout",
     "output_type": "stream",
     "text": [
      "[1, 3, 6, 10]\n"
     ]
    }
   ],
   "source": [
    "\n",
    "list=[1,2,3,4]\n",
    "new_list=[]\n",
    "j=0\n",
    "for i in range(0,len(list)):\n",
    "    j+=list[i]\n",
    "    new_list.append(j)\n",
    "     \n",
    "print(new_list)"
   ]
  },
  {
   "cell_type": "code",
   "execution_count": null,
   "id": "35c4fcc5",
   "metadata": {},
   "outputs": [],
   "source": []
  }
 ],
 "metadata": {
  "kernelspec": {
   "display_name": "Python 3",
   "language": "python",
   "name": "python3"
  },
  "language_info": {
   "codemirror_mode": {
    "name": "ipython",
    "version": 3
   },
   "file_extension": ".py",
   "mimetype": "text/x-python",
   "name": "python",
   "nbconvert_exporter": "python",
   "pygments_lexer": "ipython3",
   "version": "3.8.8"
  }
 },
 "nbformat": 4,
 "nbformat_minor": 5
}
