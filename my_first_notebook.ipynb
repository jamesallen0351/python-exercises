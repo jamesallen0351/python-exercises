{
 "cells": [
  {
   "cell_type": "markdown",
   "id": "a8b64527",
   "metadata": {},
   "source": [
    "# This is a Markdown section where I can take notes\n",
    "- 'esc' puts you into \"command more\", which highlights cells in blue\n",
    "- 'enter' key puts you into \"edit mode\", which highlights the current cell in green and allows us to edit that cell\n",
    "- 'command z' in edit mode is an undo. only applies to specific cell ( and OS)\n",
    "- from command mode, 'z' is an undo across the notebook\n",
    "- from command mode, 'dd' is a delete the current cell\n",
    "- from command mode, 'y' turns a cell into a code cell\n",
    "- from command mode, 'm; turns a cell into a markdown cell\n",
    "- shift + enter runs a cell\n",
    "\n",
    "## other heads up\n",
    "- first step in troublshooting, go to kernel "
   ]
  },
  {
   "cell_type": "code",
   "execution_count": 1,
   "id": "e5e93fff",
   "metadata": {},
   "outputs": [
    {
     "data": {
      "text/plain": [
       "4"
      ]
     },
     "execution_count": 1,
     "metadata": {},
     "output_type": "execute_result"
    }
   ],
   "source": [
    "2 + 2 "
   ]
  },
  {
   "cell_type": "code",
   "execution_count": 2,
   "id": "223f1afc",
   "metadata": {},
   "outputs": [
    {
     "data": {
      "text/plain": [
       "'Hola'"
      ]
     },
     "execution_count": 2,
     "metadata": {},
     "output_type": "execute_result"
    }
   ],
   "source": [
    "\"Hola\""
   ]
  },
  {
   "cell_type": "code",
   "execution_count": 3,
   "id": "21f3ae88",
   "metadata": {},
   "outputs": [
    {
     "name": "stdout",
     "output_type": "stream",
     "text": [
      "Good Morning\n"
     ]
    }
   ],
   "source": [
    "print(\"Good Morning\")"
   ]
  },
  {
   "cell_type": "code",
   "execution_count": 4,
   "id": "19f722af",
   "metadata": {},
   "outputs": [
    {
     "name": "stdout",
     "output_type": "stream",
     "text": [
      "hello\n"
     ]
    }
   ],
   "source": [
    "message = (\"hello\")\n",
    "print(message)"
   ]
  },
  {
   "cell_type": "code",
   "execution_count": 5,
   "id": "a4d1c5b5",
   "metadata": {},
   "outputs": [
    {
     "data": {
      "text/plain": [
       "0"
      ]
     },
     "execution_count": 5,
     "metadata": {},
     "output_type": "execute_result"
    }
   ],
   "source": [
    "2 - 2"
   ]
  },
  {
   "cell_type": "markdown",
   "id": "755e9764",
   "metadata": {},
   "source": [
    "(shift enter will run the current cell)\n",
    "(command s will save)\n",
    "(H)for keyboard shortcuts\n"
   ]
  },
  {
   "cell_type": "code",
   "execution_count": null,
   "id": "1a822fd5",
   "metadata": {},
   "outputs": [],
   "source": []
  }
 ],
 "metadata": {
  "kernelspec": {
   "display_name": "Python 3",
   "language": "python",
   "name": "python3"
  },
  "language_info": {
   "codemirror_mode": {
    "name": "ipython",
    "version": 3
   },
   "file_extension": ".py",
   "mimetype": "text/x-python",
   "name": "python",
   "nbconvert_exporter": "python",
   "pygments_lexer": "ipython3",
   "version": "3.8.8"
  }
 },
 "nbformat": 4,
 "nbformat_minor": 5
}
